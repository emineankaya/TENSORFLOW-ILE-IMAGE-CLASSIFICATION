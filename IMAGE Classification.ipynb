{
 "cells": [
  {
   "cell_type": "code",
   "execution_count": 2,
   "metadata": {
    "colab": {
     "base_uri": "https://localhost:8080/"
    },
    "id": "2n0gaUEpO-7X",
    "outputId": "076d83b6-59c5-4878-b22e-0fd5b0185823"
   },
   "outputs": [
    {
     "name": "stdout",
     "output_type": "stream",
     "text": [
      "Mounted at /content/drive\n"
     ]
    }
   ],
   "source": [
    "from google.colab import drive\n",
    "drive.mount('/content/drive')"
   ]
  },
  {
   "cell_type": "code",
   "execution_count": 3,
   "metadata": {
    "id": "IdgAtm6QLGuW"
   },
   "outputs": [],
   "source": [
    "# Import TensorFlow\n",
    "import tensorflow as tf\n",
    "\n",
    "# Import Numpy and Matplotlib\n",
    "import numpy as np\n",
    "import matplotlib.pyplot as plt"
   ]
  },
  {
   "cell_type": "code",
   "execution_count": 4,
   "metadata": {
    "colab": {
     "base_uri": "https://localhost:8080/"
    },
    "id": "oy5ZkpfzbwnA",
    "outputId": "7dda742f-537a-403e-8701-e099c6469ccc"
   },
   "outputs": [
    {
     "name": "stdout",
     "output_type": "stream",
     "text": [
      "Downloading data from https://www.cs.toronto.edu/~kriz/cifar-10-python.tar.gz\n",
      "170498071/170498071 [==============================] - 14s 0us/step\n"
     ]
    }
   ],
   "source": [
    " #Download the cifar-10 dataset included in Keras\n",
    "(X_train, y_train), (X_test, y_test) = tf.keras.datasets.cifar10.load_data()"
   ]
  },
  {
   "cell_type": "code",
   "execution_count": 5,
   "metadata": {
    "colab": {
     "base_uri": "https://localhost:8080/"
    },
    "id": "XYfZaNmXb4o0",
    "outputId": "d54b6c0d-ae36-4e96-8691-31d8fa2d4bb9"
   },
   "outputs": [
    {
     "name": "stdout",
     "output_type": "stream",
     "text": [
      "X_train: 50000\n",
      "X_test: 10000\n"
     ]
    }
   ],
   "source": [
    "# Print the number of samples \n",
    "print(f\"X_train: {len(X_train)}\")\n",
    "print(f\"X_test: {len(X_test)}\")"
   ]
  },
  {
   "cell_type": "code",
   "execution_count": 6,
   "metadata": {
    "colab": {
     "base_uri": "https://localhost:8080/"
    },
    "id": "D69KnSx7cDZ0",
    "outputId": "ccbb8448-ecb4-4710-920e-24f533a8fe3a"
   },
   "outputs": [
    {
     "name": "stdout",
     "output_type": "stream",
     "text": [
      "[[[100 111 134]\n",
      "  [ 98 110 132]\n",
      "  [ 98 109 131]\n",
      "  ...\n",
      "  [ 69  89 114]\n",
      "  [ 67  87 113]\n",
      "  [ 66  86 111]]\n",
      "\n",
      " [[ 98 109 131]\n",
      "  [ 95 106 128]\n",
      "  [ 94 105 127]\n",
      "  ...\n",
      "  [ 65  85 110]\n",
      "  [ 64  84 109]\n",
      "  [ 63  83 107]]\n",
      "\n",
      " [[ 94 105 127]\n",
      "  [ 92 103 125]\n",
      "  [ 92 103 125]\n",
      "  ...\n",
      "  [ 63  83 108]\n",
      "  [ 62  82 107]\n",
      "  [ 60  80 105]]\n",
      "\n",
      " ...\n",
      "\n",
      " [[ 13  27  40]\n",
      "  [ 12  26  39]\n",
      "  [ 12  26  39]\n",
      "  ...\n",
      "  [  4   6  21]\n",
      "  [  5   7  22]\n",
      "  [  4   7  22]]\n",
      "\n",
      " [[ 12  24  38]\n",
      "  [ 14  26  39]\n",
      "  [  9  21  34]\n",
      "  ...\n",
      "  [  3   5  19]\n",
      "  [  3   5  20]\n",
      "  [  5   7  22]]\n",
      "\n",
      " [[ 14  23  34]\n",
      "  [ 12  21  31]\n",
      "  [  9  19  29]\n",
      "  ...\n",
      "  [  4   4  17]\n",
      "  [  4   5  18]\n",
      "  [  5   5  18]]]\n"
     ]
    }
   ],
   "source": [
    "# Print a sample from X_test dataset\n",
    "print(X_test[789])"
   ]
  },
  {
   "cell_type": "code",
   "execution_count": 7,
   "metadata": {
    "colab": {
     "base_uri": "https://localhost:8080/",
     "height": 283
    },
    "id": "FRkGrSyQcFcz",
    "outputId": "8251ac97-0ce6-48a2-876e-6b4db8f54b5b"
   },
   "outputs": [
    {
     "data": {
      "image/png": "[encoded data removed]",
      "text/plain": [
       "<Figure size 432x288 with 1 Axes>"
      ]
     },
     "metadata": {
      "needs_background": "light"
     },
     "output_type": "display_data"
    },
    {
     "name": "stdout",
     "output_type": "stream",
     "text": [
      "(32, 32, 3)\n"
     ]
    }
   ],
   "source": [
    "# Use the .imshow() function and show the plot\n",
    "plt.imshow(X_test[779])\n",
    "plt.show()\n",
    "# Print the shape of the sample image\n",
    "print(X_test[779].shape)"
   ]
  },
  {
   "cell_type": "code",
   "execution_count": 8,
   "metadata": {
    "id": "Kt9XFJICcL21"
   },
   "outputs": [],
   "source": [
    "# Create the validation datasets \n",
    "# and assign the last 10000 images of X_train and y_train\n",
    "X_val = X_train[40000:]\n",
    "y_val = y_train[40000:]\n",
    "\n",
    "# Create new train datasets\n",
    "# and assign the first 40000 images of X_train and y_train\n",
    "X_train = X_train[:40000]\n",
    "y_train = y_train[:40000]"
   ]
  },
  {
   "cell_type": "code",
   "execution_count": 9,
   "metadata": {
    "colab": {
     "base_uri": "https://localhost:8080/"
    },
    "id": "_0hQq5yDcOyV",
    "outputId": "49801689-ccef-4a73-8a7b-d850ec2f42f8"
   },
   "outputs": [
    {
     "name": "stdout",
     "output_type": "stream",
     "text": [
      "X_train: 40000\n",
      "X_val: 10000\n",
      "X_test: 10000\n"
     ]
    }
   ],
   "source": [
    "# Print the lengths of the each dataset\n",
    "print(f\"X_train: {len(X_train)}\")\n",
    "print(f\"X_val: {len(X_val)}\")\n",
    "print(f\"X_test: {len(X_test)}\")"
   ]
  },
  {
   "cell_type": "code",
   "execution_count": 10,
   "metadata": {
    "id": "WwMOoVc8cRUA"
   },
   "outputs": [],
   "source": [
    "# Divide each dataset by 255\n",
    "X_train = X_train/255\n",
    "X_val = X_val/255\n",
    "X_test = X_test/255"
   ]
  },
  {
   "cell_type": "code",
   "execution_count": 11,
   "metadata": {
    "id": "0zwxCyuCcT_3"
   },
   "outputs": [],
   "source": [
    "# Create a model object\n",
    "model = tf.keras.Sequential()"
   ]
  },
  {
   "cell_type": "code",
   "execution_count": 12,
   "metadata": {
    "id": "2VHYb6eWcWIr"
   },
   "outputs": [],
   "source": [
    "\n",
    "# Add a convolution and max pooling layer\n",
    "model.add(tf.keras.layers.Conv2D(32,\n",
    "                                 kernel_size=(3,3),\n",
    "                                 strides=(1,1),\n",
    "                                 padding=\"same\",\n",
    "                                 activation=\"relu\",\n",
    "                                 input_shape=(32,32,3)))\n",
    "model.add(tf.keras.layers.MaxPooling2D((2,2)))"
   ]
  },
  {
   "cell_type": "code",
   "execution_count": 13,
   "metadata": {
    "id": "grVZBnStcY9L"
   },
   "outputs": [],
   "source": [
    "# Add more convolution and max pooling layers\n",
    "model.add(tf.keras.layers.Conv2D(64,\n",
    "                                 kernel_size=(3,3),\n",
    "                                 strides=(1,1),\n",
    "                                 padding=\"same\",\n",
    "                                 activation=\"relu\"))\n",
    "model.add(tf.keras.layers.MaxPooling2D((2,2)))\n",
    "model.add(tf.keras.layers.Conv2D(64,\n",
    "                                 kernel_size=(3,3),\n",
    "                                 strides=(1,1),\n",
    "                                 padding=\"same\",\n",
    "                                 activation=\"relu\"))"
   ]
  },
  {
   "cell_type": "code",
   "execution_count": 14,
   "metadata": {
    "id": "WgtTwxB_ccf4"
   },
   "outputs": [],
   "source": [
    "# Flatten the convolution layer\n",
    "model.add(tf.keras.layers.Flatten())"
   ]
  },
  {
   "cell_type": "code",
   "execution_count": 15,
   "metadata": {
    "id": "0a6J_qpCcexS"
   },
   "outputs": [],
   "source": [
    "# Add the dense layer and dropout layer\n",
    "model.add(tf.keras.layers.Dense(64, activation=\"relu\"))\n",
    "model.add(tf.keras.layers.Dropout(0.5))\n",
    "\n",
    "# Add the dense layer and dropout layer\n",
    "model.add(tf.keras.layers.Dense(64, activation=\"relu\"))\n",
    "model.add(tf.keras.layers.Dropout(0.5))"
   ]
  },
  {
   "cell_type": "code",
   "execution_count": 16,
   "metadata": {
    "id": "g8FUqB8tcg-j"
   },
   "outputs": [],
   "source": [
    "# Add the output layer\n",
    "model.add(tf.keras.layers.Dense(10, activation=\"softmax\"))"
   ]
  },
  {
   "cell_type": "code",
   "execution_count": 27,
   "metadata": {
    "id": "-SK31idvgxb5"
   },
   "outputs": [],
   "source": [
    "# Add the output layer\n",
    "model.add(tf.keras.layers.Dense(10, activation=\"relu\"))"
   ]
  },
  {
   "cell_type": "code",
   "execution_count": 17,
   "metadata": {
    "id": "7KCQa9MicjIO"
   },
   "outputs": [],
   "source": [
    "\n",
    "# Compile the model\n",
    "model.compile(optimizer=\"adam\",\n",
    "              loss=\"sparse_categorical_crossentropy\",\n",
    "              metrics=[\"accuracy\"])"
   ]
  },
  {
   "cell_type": "code",
   "execution_count": 18,
   "metadata": {
    "colab": {
     "base_uri": "https://localhost:8080/"
    },
    "id": "NlBdnqIvcvKi",
    "outputId": "7f7eae6d-ae47-40c9-a542-265d66cea906"
   },
   "outputs": [
    {
     "name": "stdout",
     "output_type": "stream",
     "text": [
      "Epoch 1/50\n",
      "313/313 [==============================] - 12s 9ms/step - loss: 2.0948 - accuracy: 0.2050 - val_loss: 1.7331 - val_accuracy: 0.3619\n",
      "Epoch 2/50\n",
      "313/313 [==============================] - 2s 7ms/step - loss: 1.7091 - accuracy: 0.3484 - val_loss: 1.4193 - val_accuracy: 0.4848\n",
      "Epoch 3/50\n",
      "313/313 [==============================] - 2s 7ms/step - loss: 1.5367 - accuracy: 0.4245 - val_loss: 1.3574 - val_accuracy: 0.5243\n",
      "Epoch 4/50\n",
      "313/313 [==============================] - 2s 7ms/step - loss: 1.4196 - accuracy: 0.4770 - val_loss: 1.1757 - val_accuracy: 0.5774\n",
      "Epoch 5/50\n",
      "313/313 [==============================] - 2s 7ms/step - loss: 1.3380 - accuracy: 0.5146 - val_loss: 1.1221 - val_accuracy: 0.6082\n",
      "Epoch 6/50\n",
      "313/313 [==============================] - 2s 7ms/step - loss: 1.2654 - accuracy: 0.5407 - val_loss: 1.0859 - val_accuracy: 0.6278\n",
      "Epoch 7/50\n",
      "313/313 [==============================] - 2s 8ms/step - loss: 1.2168 - accuracy: 0.5630 - val_loss: 1.0157 - val_accuracy: 0.6491\n",
      "Epoch 8/50\n",
      "313/313 [==============================] - 2s 8ms/step - loss: 1.1689 - accuracy: 0.5761 - val_loss: 1.0662 - val_accuracy: 0.6291\n",
      "Epoch 9/50\n",
      "313/313 [==============================] - 2s 7ms/step - loss: 1.1322 - accuracy: 0.5957 - val_loss: 0.9848 - val_accuracy: 0.6632\n",
      "Epoch 10/50\n",
      "313/313 [==============================] - 2s 7ms/step - loss: 1.0847 - accuracy: 0.6123 - val_loss: 0.9536 - val_accuracy: 0.6743\n",
      "Epoch 11/50\n",
      "313/313 [==============================] - 2s 7ms/step - loss: 1.0499 - accuracy: 0.6256 - val_loss: 0.9372 - val_accuracy: 0.6756\n",
      "Epoch 12/50\n",
      "313/313 [==============================] - 2s 7ms/step - loss: 1.0057 - accuracy: 0.6431 - val_loss: 0.8862 - val_accuracy: 0.7042\n",
      "Epoch 13/50\n",
      "313/313 [==============================] - 2s 7ms/step - loss: 0.9858 - accuracy: 0.6471 - val_loss: 0.8954 - val_accuracy: 0.6959\n",
      "Epoch 14/50\n",
      "313/313 [==============================] - 2s 7ms/step - loss: 0.9622 - accuracy: 0.6586 - val_loss: 0.8939 - val_accuracy: 0.6957\n",
      "Epoch 15/50\n",
      "313/313 [==============================] - 2s 7ms/step - loss: 0.9304 - accuracy: 0.6679 - val_loss: 0.9011 - val_accuracy: 0.6964\n",
      "Epoch 16/50\n",
      "313/313 [==============================] - 2s 7ms/step - loss: 0.9153 - accuracy: 0.6754 - val_loss: 0.8629 - val_accuracy: 0.7051\n",
      "Epoch 17/50\n",
      "313/313 [==============================] - 2s 7ms/step - loss: 0.8893 - accuracy: 0.6847 - val_loss: 0.8910 - val_accuracy: 0.7051\n",
      "Epoch 18/50\n",
      "313/313 [==============================] - 2s 7ms/step - loss: 0.8591 - accuracy: 0.6956 - val_loss: 0.8584 - val_accuracy: 0.7100\n",
      "Epoch 19/50\n",
      "313/313 [==============================] - 2s 7ms/step - loss: 0.8489 - accuracy: 0.6994 - val_loss: 0.8723 - val_accuracy: 0.7112\n",
      "Epoch 20/50\n",
      "313/313 [==============================] - 2s 7ms/step - loss: 0.8230 - accuracy: 0.7054 - val_loss: 0.8662 - val_accuracy: 0.7148\n",
      "Epoch 21/50\n",
      "313/313 [==============================] - 2s 7ms/step - loss: 0.7977 - accuracy: 0.7136 - val_loss: 0.8949 - val_accuracy: 0.7082\n",
      "Epoch 22/50\n",
      "313/313 [==============================] - 2s 7ms/step - loss: 0.7900 - accuracy: 0.7184 - val_loss: 0.8755 - val_accuracy: 0.7133\n",
      "Epoch 23/50\n",
      "313/313 [==============================] - 2s 7ms/step - loss: 0.7793 - accuracy: 0.7205 - val_loss: 0.8725 - val_accuracy: 0.7220\n",
      "Epoch 24/50\n",
      "313/313 [==============================] - 2s 7ms/step - loss: 0.7602 - accuracy: 0.7270 - val_loss: 0.8914 - val_accuracy: 0.7203\n",
      "Epoch 25/50\n",
      "313/313 [==============================] - 3s 8ms/step - loss: 0.7435 - accuracy: 0.7365 - val_loss: 0.8730 - val_accuracy: 0.7189\n",
      "Epoch 26/50\n",
      "313/313 [==============================] - 3s 8ms/step - loss: 0.7380 - accuracy: 0.7398 - val_loss: 0.9319 - val_accuracy: 0.7107\n",
      "Epoch 27/50\n",
      "313/313 [==============================] - 2s 7ms/step - loss: 0.7081 - accuracy: 0.7463 - val_loss: 0.9130 - val_accuracy: 0.7167\n",
      "Epoch 28/50\n",
      "313/313 [==============================] - 3s 9ms/step - loss: 0.6994 - accuracy: 0.7484 - val_loss: 0.9163 - val_accuracy: 0.7164\n",
      "Epoch 29/50\n",
      "313/313 [==============================] - 2s 7ms/step - loss: 0.6915 - accuracy: 0.7506 - val_loss: 0.9169 - val_accuracy: 0.7167\n",
      "Epoch 30/50\n",
      "313/313 [==============================] - 2s 7ms/step - loss: 0.6753 - accuracy: 0.7593 - val_loss: 0.9148 - val_accuracy: 0.7215\n",
      "Epoch 31/50\n",
      "313/313 [==============================] - 2s 7ms/step - loss: 0.6647 - accuracy: 0.7650 - val_loss: 0.9617 - val_accuracy: 0.7109\n",
      "Epoch 32/50\n",
      "313/313 [==============================] - 2s 7ms/step - loss: 0.6430 - accuracy: 0.7693 - val_loss: 0.9203 - val_accuracy: 0.7238\n",
      "Epoch 33/50\n",
      "313/313 [==============================] - 2s 7ms/step - loss: 0.6347 - accuracy: 0.7720 - val_loss: 0.9812 - val_accuracy: 0.7106\n",
      "Epoch 34/50\n",
      "313/313 [==============================] - 2s 7ms/step - loss: 0.6388 - accuracy: 0.7707 - val_loss: 0.9501 - val_accuracy: 0.7231\n",
      "Epoch 35/50\n",
      "313/313 [==============================] - 2s 7ms/step - loss: 0.6306 - accuracy: 0.7725 - val_loss: 0.9494 - val_accuracy: 0.7198\n",
      "Epoch 36/50\n",
      "313/313 [==============================] - 2s 7ms/step - loss: 0.6095 - accuracy: 0.7797 - val_loss: 1.0319 - val_accuracy: 0.7200\n",
      "Epoch 37/50\n",
      "313/313 [==============================] - 2s 7ms/step - loss: 0.6152 - accuracy: 0.7779 - val_loss: 0.9950 - val_accuracy: 0.7267\n",
      "Epoch 38/50\n",
      "313/313 [==============================] - 2s 7ms/step - loss: 0.5982 - accuracy: 0.7857 - val_loss: 1.0872 - val_accuracy: 0.7109\n",
      "Epoch 39/50\n",
      "313/313 [==============================] - 2s 7ms/step - loss: 0.5939 - accuracy: 0.7862 - val_loss: 1.0688 - val_accuracy: 0.7213\n",
      "Epoch 40/50\n",
      "313/313 [==============================] - 2s 7ms/step - loss: 0.5754 - accuracy: 0.7928 - val_loss: 1.0270 - val_accuracy: 0.7170\n",
      "Epoch 41/50\n",
      "313/313 [==============================] - 2s 7ms/step - loss: 0.5651 - accuracy: 0.7958 - val_loss: 1.0748 - val_accuracy: 0.7139\n",
      "Epoch 42/50\n",
      "313/313 [==============================] - 2s 7ms/step - loss: 0.5750 - accuracy: 0.7921 - val_loss: 1.0145 - val_accuracy: 0.7242\n",
      "Epoch 43/50\n",
      "313/313 [==============================] - 3s 8ms/step - loss: 0.5495 - accuracy: 0.8005 - val_loss: 1.0300 - val_accuracy: 0.7206\n",
      "Epoch 44/50\n",
      "313/313 [==============================] - 3s 8ms/step - loss: 0.5496 - accuracy: 0.8013 - val_loss: 1.0835 - val_accuracy: 0.7190\n",
      "Epoch 45/50\n",
      "313/313 [==============================] - 2s 7ms/step - loss: 0.5511 - accuracy: 0.8030 - val_loss: 1.0718 - val_accuracy: 0.7134\n",
      "Epoch 46/50\n",
      "313/313 [==============================] - 2s 7ms/step - loss: 0.5526 - accuracy: 0.7991 - val_loss: 1.0887 - val_accuracy: 0.7251\n",
      "Epoch 47/50\n",
      "313/313 [==============================] - 2s 7ms/step - loss: 0.5306 - accuracy: 0.8077 - val_loss: 1.1119 - val_accuracy: 0.7209\n",
      "Epoch 48/50\n",
      "313/313 [==============================] - 2s 7ms/step - loss: 0.5385 - accuracy: 0.8067 - val_loss: 1.0729 - val_accuracy: 0.7249\n",
      "Epoch 49/50\n",
      "313/313 [==============================] - 2s 7ms/step - loss: 0.5297 - accuracy: 0.8107 - val_loss: 1.1171 - val_accuracy: 0.7310\n",
      "Epoch 50/50\n",
      "313/313 [==============================] - 2s 7ms/step - loss: 0.5248 - accuracy: 0.8133 - val_loss: 1.1655 - val_accuracy: 0.7236\n"
     ]
    }
   ],
   "source": [
    "# Train the model for 50 epochs with batch size of 128\n",
    "results = model.fit(X_train, y_train,\n",
    "                    batch_size=128,\n",
    "                    epochs=50,\n",
    "                    validation_data=(X_val, y_val))"
   ]
  },
  {
   "cell_type": "code",
   "execution_count": 19,
   "metadata": {
    "colab": {
     "base_uri": "https://localhost:8080/",
     "height": 279
    },
    "id": "-qpMScN0cxSe",
    "outputId": "3dce69f0-e6ee-466d-fe74-4e1e051c5d1c"
   },
   "outputs": [
    {
     "data": {
      "image/png": "[encoded data removed]",
      "text/plain": [
       "<Figure size 432x288 with 1 Axes>"
      ]
     },
     "metadata": {
      "needs_background": "light"
     },
     "output_type": "display_data"
    }
   ],
   "source": [
    "# Plot the the training loss\n",
    "plt.plot(results.history[\"loss\"], label=\"loss\")\n",
    "\n",
    "# Plot the the validation loss\n",
    "plt.plot(results.history[\"val_loss\"], label=\"val_loss\")\n",
    "\n",
    "# Name the x and y axises\n",
    "plt.xlabel(\"Epoch\")\n",
    "plt.ylabel(\"Loss\")\n",
    "\n",
    "\n",
    "# Put legend table\n",
    "plt.legend()\n",
    "\n",
    "# Show the plot\n",
    "plt.show()"
   ]
  },
  {
   "cell_type": "code",
   "execution_count": 20,
   "metadata": {
    "colab": {
     "base_uri": "https://localhost:8080/",
     "height": 279
    },
    "id": "JZzzbumMfE_R",
    "outputId": "0278891f-2894-4fbc-ebc9-3f7f4d161528"
   },
   "outputs": [
    {
     "data": {
      "image/png": "[encoded data removed]",
      "text/plain": [
       "<Figure size 432x288 with 1 Axes>"
      ]
     },
     "metadata": {
      "needs_background": "light"
     },
     "output_type": "display_data"
    }
   ],
   "source": [
    "# Plot the the training accuracy\n",
    "plt.plot(results.history[\"accuracy\"], label=\"accuracy\")\n",
    "\n",
    "# Plot the the validation accuracy\n",
    "plt.plot(results.history[\"val_accuracy\"], label=\"val_accuracy\")\n",
    "\n",
    "# Name the x and y axises\n",
    "plt.xlabel(\"Epoch\")\n",
    "plt.ylabel(\"Accuracy\")\n",
    "\n",
    "# Put legend table\n",
    "plt.legend()\n",
    "\n",
    "# Show the plot\n",
    "plt.show()"
   ]
  },
  {
   "cell_type": "code",
   "execution_count": 21,
   "metadata": {
    "colab": {
     "base_uri": "https://localhost:8080/"
    },
    "id": "waNuGGxEfHsN",
    "outputId": "19b621ce-58a2-4313-b412-f286dc60acba"
   },
   "outputs": [
    {
     "name": "stdout",
     "output_type": "stream",
     "text": [
      "313/313 [==============================] - 1s 4ms/step - loss: 1.2340 - accuracy: 0.7140\n"
     ]
    },
    {
     "data": {
      "text/plain": [
       "[1.2339729070663452, 0.7139999866485596]"
      ]
     },
     "execution_count": 21,
     "metadata": {},
     "output_type": "execute_result"
    }
   ],
   "source": [
    "# Evaluate the performance\n",
    "model.evaluate(X_test, y_test)"
   ]
  },
  {
   "cell_type": "code",
   "execution_count": 22,
   "metadata": {
    "colab": {
     "base_uri": "https://localhost:8080/"
    },
    "id": "mjXsN8rxfJ9S",
    "outputId": "391d9975-0f63-43ab-876a-4f18b6eca4e1"
   },
   "outputs": [
    {
     "name": "stdout",
     "output_type": "stream",
     "text": [
      "1/1 [==============================] - 0s 164ms/step\n"
     ]
    },
    {
     "data": {
      "text/plain": [
       "array([[2.7700505e-06, 2.9556644e-09, 1.0043708e-15, 4.6524195e-18,\n",
       "        2.7876790e-21, 1.0278646e-20, 1.1252620e-16, 8.3105579e-25,\n",
       "        9.9999726e-01, 2.5641678e-12]], dtype=float32)"
      ]
     },
     "execution_count": 22,
     "metadata": {},
     "output_type": "execute_result"
    }
   ],
   "source": [
    "# Make prediction on the reshaped sample\n",
    "prediction_result = model.predict(X_test[789].reshape(1,32,32,3))\n",
    "\n",
    "# Print the prediction result\n",
    "prediction_result"
   ]
  },
  {
   "cell_type": "code",
   "execution_count": 23,
   "metadata": {
    "id": "gpwaKndIfNcE"
   },
   "outputs": [],
   "source": [
    "# Find the predicted class\n",
    "predicted_class=prediction_result.argmax()\n",
    "# Find the prediction probability\n",
    "predicted_probability = prediction_result.max()"
   ]
  },
  {
   "cell_type": "code",
   "execution_count": 24,
   "metadata": {
    "colab": {
     "base_uri": "https://localhost:8080/"
    },
    "id": "oz6Gw6JafPQ5",
    "outputId": "1e0efa9c-d187-4776-8929-eb5ffb022c15"
   },
   "outputs": [
    {
     "name": "stdout",
     "output_type": "stream",
     "text": [
      "This image belongs to class 8 with 0.9999972581863403 probability %\n"
     ]
    }
   ],
   "source": [
    "# Print the results\n",
    "print(f\"This image belongs to class {predicted_class} with {predicted_probability} probability %\")"
   ]
  },
  {
   "cell_type": "code",
   "execution_count": null,
   "metadata": {
    "id": "yLikTeTzfR5w"
   },
   "outputs": [],
   "source": []
  }
 ],
 "metadata": {
  "accelerator": "GPU",
  "colab": {
   "provenance": []
  },
  "gpuClass": "standard",
  "kernelspec": {
   "display_name": "Python 3 (ipykernel)",
   "language": "python",
   "name": "python3"
  },
  "language_info": {
   "codemirror_mode": {
    "name": "ipython",
    "version": 3
   },
   "file_extension": ".py",
   "mimetype": "text/x-python",
   "name": "python",
   "nbconvert_exporter": "python",
   "pygments_lexer": "ipython3",
   "version": "3.9.7"
  }
 },
 "nbformat": 4,
 "nbformat_minor": 1
}
